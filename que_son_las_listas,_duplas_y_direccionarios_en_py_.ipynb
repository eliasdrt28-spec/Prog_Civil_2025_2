{
  "cells": [
    {
      "cell_type": "markdown",
      "metadata": {
        "id": "view-in-github",
        "colab_type": "text"
      },
      "source": [
        "<a href=\"https://colab.research.google.com/github/eliasdrt28-spec/Prog_Civil_2025_2/blob/main/que_son_las_listas%2C_duplas_y_direccionarios_en_py_.ipynb\" target=\"_parent\"><img src=\"https://colab.research.google.com/assets/colab-badge.svg\" alt=\"Open In Colab\"/></a>"
      ]
    },
    {
      "cell_type": "markdown",
      "source": [
        "Las listas, tuplas y diccionarios son tipos de datos fundamentales en **Python** que se utilizan para almacenar colecciones de elementos. Cada uno tiene características y usos específicos que los distinguen.\n",
        "\n",
        "-----\n",
        "\n",
        "### Listas (Lists)\n",
        "\n",
        "Las **listas** son colecciones **ordenadas y mutables** de elementos. Esto significa que puedes cambiar, añadir o eliminar elementos después de que la lista ha sido creada. Se definen utilizando **corchetes `[]`**.\n",
        "\n",
        "**Características Clave:**\n",
        "\n",
        "  * **Mutable:** Puedes modificar los elementos (cambiarlos, agregarlos, o eliminarlos).\n",
        "  * **Ordenada:** Los elementos mantienen un orden de inserción, lo que permite acceder a ellos por su índice (posición).\n",
        "  * **Permite duplicados:** Una lista puede contener el mismo elemento varias veces.\n",
        "  * **Heterogénea:** Puede almacenar elementos de diferentes tipos de datos (enteros, cadenas de texto, etc.).\n",
        "\n",
        "**Ejemplo:**"
      ],
      "metadata": {
        "id": "oDi9wqYwN6JU"
      }
    },
    {
      "cell_type": "code",
      "source": [
        "mi_lista = [1, 'manzana', 3.14, 'manzana']\n",
        "mi_lista[0] = 5 # Modificar un elemento\n",
        "mi_lista.append('naranja') # Agregar un elemento"
      ],
      "outputs": [],
      "execution_count": null,
      "metadata": {
        "id": "6FX94Xw4N6JY"
      }
    },
    {
      "cell_type": "markdown",
      "source": [
        "-----\n",
        "\n",
        "### Tuplas (Tuples)\n",
        "\n",
        "Las **tuplas** son colecciones **ordenadas e inmutables** de elementos. Una vez que se crea una tupla, no se puede cambiar, añadir o eliminar ninguno de sus elementos. Se definen utilizando **paréntesis `()`**.\n",
        "\n",
        "**Características Clave:**\n",
        "\n",
        "  * **Inmutable:** No se pueden modificar sus elementos una vez creada la tupla.\n",
        "  * **Ordenada:** Al igual que las listas, los elementos se mantienen en un orden de inserción y se pueden acceder por su índice.\n",
        "  * **Permite duplicados:** Pueden contener elementos duplicados.\n",
        "  * **Heterogénea:** Puede almacenar diferentes tipos de datos.\n",
        "\n",
        "**Ejemplo:**"
      ],
      "metadata": {
        "id": "Urd9huG-N6Ja"
      }
    },
    {
      "cell_type": "code",
      "source": [
        "mi_tupla = (1, 'manzana', 3.14)\n",
        "# mi_tupla[0] = 5 # Esto generaría un error, ya que las tuplas son inmutables"
      ],
      "outputs": [],
      "execution_count": null,
      "metadata": {
        "id": "vfo-IMKRN6Jb"
      }
    },
    {
      "cell_type": "markdown",
      "source": [
        "Las tuplas se usan a menudo para datos que no deben ser alterados, como las coordenadas de un punto o la configuración de un programa.\n",
        "\n",
        "-----\n",
        "\n",
        "### Diccionarios (Dictionaries)\n",
        "\n",
        "Los **diccionarios** son colecciones **desordenadas y mutables** que almacenan datos en pares de **clave-valor**. Cada valor está asociado a una clave única, lo que permite un acceso rápido a la información. Se definen utilizando **llaves `{}`** y la sintaxis `clave: valor`.\n",
        "\n",
        "**Características Clave:**\n",
        "\n",
        "  * **Mutable:** Se pueden añadir, modificar o eliminar pares clave-valor.\n",
        "  * **Desordenada:** En versiones de Python anteriores a 3.7, los diccionarios no mantenían un orden de inserción. A partir de Python 3.7, sí lo hacen.\n",
        "  * **Claves únicas:** Cada clave debe ser única e inmutable (p.ej., cadenas, números, tuplas).\n",
        "  * **Acceso por clave:** Se accede a los valores a través de sus claves, no por un índice numérico.\n",
        "\n",
        "**Ejemplo:**"
      ],
      "metadata": {
        "id": "mt8U1kJ6N6Jb"
      }
    },
    {
      "cell_type": "code",
      "source": [
        "mi_diccionario = {'nombre': 'Juan', 'edad': 30, 'ciudad': 'Bogotá'}\n",
        "mi_diccionario['edad'] = 31 # Modificar un valor\n",
        "mi_diccionario['profesion'] = 'Ingeniero' # Agregar un nuevo par"
      ],
      "outputs": [],
      "execution_count": null,
      "metadata": {
        "id": "smdy7LfON6Jb"
      }
    },
    {
      "cell_type": "markdown",
      "source": [
        "Los diccionarios son ideales para almacenar datos que tienen una relación lógica, como la información de un usuario o un registro."
      ],
      "metadata": {
        "id": "FZ-k8UOpN6Jc"
      }
    }
  ],
  "metadata": {
    "colab": {
      "provenance": [],
      "include_colab_link": true
    },
    "kernelspec": {
      "display_name": "Python 3",
      "name": "python3"
    }
  },
  "nbformat": 4,
  "nbformat_minor": 0
}