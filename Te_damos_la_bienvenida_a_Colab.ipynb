{
  "cells": [
    {
      "cell_type": "markdown",
      "metadata": {
        "id": "view-in-github",
        "colab_type": "text"
      },
      "source": [
        "<a href=\"https://colab.research.google.com/github/eliasdrt28-spec/Prog_Civil_2025_2/blob/main/Te_damos_la_bienvenida_a_Colab.ipynb\" target=\"_parent\"><img src=\"https://colab.research.google.com/assets/colab-badge.svg\" alt=\"Open In Colab\"/></a>"
      ]
    },
    {
      "cell_type": "markdown",
      "source": [
        "Situación de Interés en Ingeniería Civil fi : Un ingeniero estructural necesita calcular el peso de\n",
        "diferentes elementos de una construcción (vigas, columnas). El programa debe tener una base de datos\n",
        "con las densidades de materiales comunes (acero, concreto, madera) y, a partir del tipo de material y\n",
        "el volumen del elemento, debe calcular su peso total.\n",
        "Caso de Ingeniería Civil: Calculadora de Peso Estructural (Diccionarios y Funciones)\n",
        "• Paso a Paso del Código:\n",
        "1. Crear un diccionario que funcione como una base de datos de densidades. La clave será el\n",
        "nombre del material y el valor será su densidad en kg/m3.\n",
        "2. Crear una función calcular_peso que reciba el diccionario de densidades, el nombre del material\n",
        "y su volumen.\n",
        "3. Dentro de la función, buscar la densidad del material en el diccionario.\n",
        "4. Si el material existe, calcular y devolver el peso (densidad * volumen). Si no, devolver un mensaje\n",
        "de error o None.\n",
        "5. En el programa principal, pedir al usuario el tipo de material y las dimensiones del elemento para\n",
        "calcular su volumen.\n",
        "6. Llamar a la función calcular_peso y mostrar el resultado."
      ],
      "metadata": {
        "id": "hhGA6EAcbX9W"
      }
    },
    {
      "cell_type": "code",
      "metadata": {
        "colab": {
          "base_uri": "https://localhost:8080/"
        },
        "id": "9fc028af",
        "outputId": "7cd28cc9-3bc6-4e07-f87f-1ef0db9d6da6"
      },
      "source": [
        "# 1. Definir la base de datos de densidades\n",
        "densidades = {\n",
        "    'acero': 7850,  # Densidad del acero en kg/m³\n",
        "    'concreto': 2400, # Densidad del concreto en kg/m³\n",
        "    'madera': 600   # Densidad de la madera en kg/m³\n",
        "}\n",
        "\n",
        "# 2. Crear la función calcular_peso\n",
        "def calcular_peso(db_densidades, material, volumen):\n",
        "    \"\"\"\n",
        "    Calcula el peso de un elemento estructural basándose en su material y volumen.\n",
        "\n",
        "    Args:\n",
        "        db_densidades: Un diccionario que contiene las densidades de los materiales.\n",
        "        material: El nombre del material.\n",
        "        volumen: El volumen del elemento en metros cúbicos.\n",
        "\n",
        "    Returns:\n",
        "        El peso calculado en kilogramos si se encuentra el material, de lo contrario None.\n",
        "    \"\"\"\n",
        "    if material.lower() in db_densidades:\n",
        "        densidad = db_densidades[material.lower()]\n",
        "        peso = densidad * volumen\n",
        "        return peso\n",
        "    else:\n",
        "        print(f\"Error: Material '{material}' no encontrado en la base de datos.\")\n",
        "        return None\n",
        "\n",
        "# 3. Obtener la entrada del usuario\n",
        "tipo_material = input(\"Introduce el tipo de material (ej. acero, concreto, madera): \")\n",
        "print(\"Introduce las dimensiones del elemento estructural en metros.\")\n",
        "largo = float(input(\"Introduce el largo: \"))\n",
        "ancho = float(input(\"Introduce el ancho: \"))\n",
        "alto = float(input(\"Introduce el alto: \"))\n",
        "\n",
        "# 4. Calcular el volumen\n",
        "volumen = largo * ancho * alto\n",
        "\n",
        "# 5. Calcular y mostrar el peso\n",
        "peso = calcular_peso(densidades, tipo_material, volumen)\n",
        "\n",
        "if peso is not None:\n",
        "    print(f\"El peso del elemento estructural es: {peso:.2f} kg\")"
      ],
      "execution_count": 10,
      "outputs": [
        {
          "output_type": "stream",
          "name": "stdout",
          "text": [
            "Introduce el tipo de material (ej. acero, concreto, madera): acero\n",
            "Introduce las dimensiones del elemento estructural en metros.\n",
            "Introduce el largo: 15\n",
            "Introduce el ancho: 5\n",
            "Introduce el alto: 1\n",
            "El peso del elemento estructural es: 588750.00 kg\n"
          ]
        }
      ]
    },
    {
      "cell_type": "markdown",
      "metadata": {
        "id": "a17f0e7a"
      },
      "source": [
        "Este código Python implementa una calculadora simple para determinar el peso de elementos estructurales basándose en su material y dimensiones. Funciona de la siguiente manera:\n",
        "\n",
        "1.  **`densidades = {...}`**: Se define un diccionario llamado `densidades` que actúa como una pequeña base de datos. Las claves del diccionario son los nombres de los materiales (como 'acero', 'concreto', 'madera') y los valores asociados son sus respectivas densidades en kilogramos por metro cúbico (kg/m³).\n",
        "\n",
        "2.  **`def calcular_peso(db_densidades, material, volumen): ...`**: Se define una función llamada `calcular_peso` que toma tres argumentos:\n",
        "    *   `db_densidades`: El diccionario de densidades.\n",
        "    *   `material`: El nombre del material del elemento (ingresado por el usuario).\n",
        "    *   `volumen`: El volumen del elemento en metros cúbicos (calculado a partir de las dimensiones ingresadas por el usuario).\n",
        "    Dentro de la función, se verifica si el `material` ingresado (convertido a minúsculas para hacer la búsqueda insensible a mayúsculas/minúsculas) existe como clave en el diccionario `db_densidades`.\n",
        "    *   Si el material se encuentra, se obtiene su densidad y se calcula el `peso` multiplicando la densidad por el volumen (`densidad * volumen`). La función devuelve este peso.\n",
        "    *   Si el material no se encuentra en el diccionario, se imprime un mensaje de error indicando que el material no fue encontrado y la función devuelve `None`.\n",
        "\n",
        "3.  **Obtener la entrada del usuario**: El código solicita al usuario que introduzca el tipo de material y las dimensiones del elemento (largo, ancho y alto) en metros. Las entradas de las dimensiones se convierten a números de tipo flotante (`float`) para permitir valores decimales.\n",
        "\n",
        "4.  **Calcular el volumen**: Se calcula el `volumen` del elemento multiplicando las tres dimensiones ingresadas por el usuario (`largo * ancho * alto`).\n",
        "\n",
        "5.  **Calcular y mostrar el peso**: Se llama a la función `calcular_peso` pasando el diccionario `densidades`, el `tipo_material` ingresado por el usuario y el `volumen` calculado. El resultado se almacena en la variable `peso`.\n",
        "    Finalmente, se verifica si el valor de `peso` no es `None` (lo que ocurriría si el material no se encontró). Si `peso` tiene un valor válido, se imprime el resultado formateado a dos decimales (`.2f`) junto con la unidad de medida (kg). Si `peso` es `None`, el mensaje de error ya fue impreso por la función `calcular_peso`."
      ]
    }
  ],
  "metadata": {
    "colab": {
      "name": "Te damos la bienvenida a Colab",
      "toc_visible": true,
      "provenance": [],
      "include_colab_link": true
    },
    "kernelspec": {
      "display_name": "Python 3",
      "name": "python3"
    }
  },
  "nbformat": 4,
  "nbformat_minor": 0
}